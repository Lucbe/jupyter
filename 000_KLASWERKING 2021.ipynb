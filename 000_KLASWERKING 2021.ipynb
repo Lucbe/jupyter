{
 "cells": [
  {
   "cell_type": "markdown",
   "metadata": {},
   "source": [
    "# Week 0\n",
    "Hierna komt inhoud die besproken is in de les van de eerste week.\n",
    "\n",
    "### Werken met cellen en markdown\n",
    "Hoe kan ik een cel interpreteren:\n",
    "* Ctrl-return – sluit cel af en interpreteert, cel schakelt naar command mode (BLAUW)\n",
    "* return – schakelt geselecteerde cel van commando naar input mode (GROEN)\n",
    "* Alt-return - sluit cel af, interpreteert en maakt nieuwe aktieve codecel aan\n",
    "* Sh-return - sluit cel af, interpreteert en gaat naar volgende cel in command mode\n",
    "\n",
    "Handelingen op commando niveau:\n",
    "* Esc of Return - chakelen tss commando en invoer niveau.\n",
    "* navigeren met pijltjes of aanklikken\n",
    "* DD - verwijderen\n",
    "* M - schakel cel naar MardDown\n",
    "* Y - schakel cel naar code\n",
    "* L - schakel lijnnummers aan\n",
    "\n",
    "Commandolijn kan gebruikt worden binnen JN:\n",
    "* ! of % gevolgd door het commando.\n",
    "* ls - list\n",
    "* rm - verwijder file\n",
    "* cwd - current working directory\n",
    "* cd - change directory\n",
    "* rmdir - remove diretory\n",
    "* mkdir - make diretory\n",
    "\n",
    "We kennen de structuur van een pad vanuit andere lessen!\n",
    "* Absoluut pad\n",
    "* Relatief pad\n",
    "\n",
    "Markdowncodes  \n",
    "In mijn tekst **vet** zetten of cursief *cursief*. Met twee spaties afsluiten voor volgende.\n",
    "Volgende regel.\n",
    "\n",
    "**Opmerking:** de cellen hierna zijn gebruikt om uitleg te geven over de verschillende modi en het werken op cellen."
   ]
  },
  {
   "cell_type": "code",
   "execution_count": null,
   "metadata": {},
   "outputs": [],
   "source": [
    "print(naam)\n",
    "print(\"hallo\")"
   ]
  },
  {
   "cell_type": "code",
   "execution_count": null,
   "metadata": {},
   "outputs": [],
   "source": [
    "naam = \"Luc Berth\"\n",
    "print(naam)"
   ]
  },
  {
   "cell_type": "markdown",
   "metadata": {},
   "source": [
    "## Variabelen\n",
    "Naamgeving\n",
    "* camelCase en snake_case\n",
    "* nooit beginnen met cijfer\n",
    "* kapitaalgevoelig\n",
    "\n",
    "Toekennen  \n",
    "= ≠ ==\n",
    "\n",
    "Type variable  \n",
    "* string - steeds tussen \"inhoud\" of 'inhoud'\n",
    "* integer - 1234\n",
    "* float - 1234.567 (let op punt)\n",
    "* boolean - True False\n",
    "\n",
    "Uitvoer via print()\n",
    "Concatenation\n",
    "f-string"
   ]
  },
  {
   "cell_type": "code",
   "execution_count": null,
   "metadata": {},
   "outputs": [],
   "source": [
    "# dit is een test op de verschillende gegevenstypes\n",
    "aam = \"mlkjmlk \"\n",
    "print(type(naam))\n",
    "getal = 12\n",
    "print(type(getal))\n",
    "vlot = 12.45\n",
    "print(type(vlot))\n",
    "bol = True    # let op met kapitaal\n",
    "print(type(bol))"
   ]
  },
  {
   "cell_type": "code",
   "execution_count": null,
   "metadata": {
    "scrolled": true
   },
   "outputs": [],
   "source": [
    "tien = 10\n",
    "print(10 + tien)\n",
    "print(12 / 6)"
   ]
  },
  {
   "cell_type": "markdown",
   "metadata": {},
   "source": [
    "## Concatenation of samenvoeging\n",
    "Verschillende data-elmenten kunnen samengevoegd worden:\n",
    "* elke element na elkaar gescheiden door , of +: **\"tesktuele data\" , variabele + \"data als tekst\"**\n",
    "* in een stingsturctuur:  **\"tesktuele data {} data als tekst\".format(variabele)**\n",
    "* als f-string:  **f\"tesktuele data {variabele} data als tekst\"**  \n",
    "\n",
    "**Opmerking:** waar de variabele genest wordt kan ook een bewerking doorgevoerd worden."
   ]
  },
  {
   "cell_type": "code",
   "execution_count": null,
   "metadata": {},
   "outputs": [],
   "source": [
    "groet = \"hallo\"\n",
    "naam1 = \"piet\"\n",
    "naam2 = \"mieke\"\n",
    "getal = 2\n",
    "getal = getal * 2\n",
    "zin = \"jan\" + groet\n",
    "print(zin)\n",
    "\n",
    "print(\"jan\" , groet , \"zegt de volgende\" + \" \" + naam1)\n",
    "\n",
    "print(\"jan {0} zegt de volgende {0}\".format(groet, \"deeltje\"))\n",
    "\n",
    "# f-string\n",
    "print(f\"jan {naam2} zegt de volgende {groet}\")\n",
    "print(f\"jan zegt {getal * 2} maal {groet}\")"
   ]
  },
  {
   "cell_type": "markdown",
   "metadata": {},
   "source": [
    "# Week 1\n"
   ]
  },
  {
   "cell_type": "markdown",
   "metadata": {},
   "source": [
    "### Werken met ASCII\n",
    "ASCII waarde teken opvragen\n",
    "* ord() – haalt de ascii waarde op  van een teken  \n",
    "\n",
    "Tekens links en rechts wegnemen via .lstrip() en .rstrip() \n",
    "Tekens zowel L/R wegnemen met .strip()  \n",
    "Index"
   ]
  },
  {
   "cell_type": "code",
   "execution_count": null,
   "metadata": {},
   "outputs": [],
   "source": [
    "school = \"Arteveldehogeschool\"\n",
    "print(school[0])\n",
    "print(school[0:3])\n",
    "print(school[3:])\n",
    "print(len(school))\n",
    "print(school[3:len(school)])\n",
    "print(school[11-1])\n",
    "print(school[3:len(school)-1])\n",
    "print(school[len(school)-1])\n",
    "print(school[5-1])\n",
    "print(school)\n",
    "print(school[-6])\n",
    "print(school[3-1:-6])\n",
    "print(school[3-1])\n"
   ]
  },
  {
   "cell_type": "code",
   "execution_count": null,
   "metadata": {},
   "outputs": [],
   "source": [
    "tekst = \"dit is een tekst\"\n",
    "print(tekst.lstrip(\"dit\"))\n",
    "print(tekst.rstrip(\" tekst\") + \"H\")\n",
    "print(f\"{tekst.rstrip(' tekst')}H\")\n",
    "\n",
    "data = \" \\t teskt mlkjlm\\tlkj  \\t\"\n",
    "print(f\"{data.strip()}H\")"
   ]
  },
  {
   "cell_type": "code",
   "execution_count": null,
   "metadata": {},
   "outputs": [],
   "source": [
    "letter = \"A\"\n",
    "# print(ord(letter))\n",
    "# print(hex(ord(letter)))\n",
    "\n",
    "\n",
    "getal = 2\n",
    "print(hex(getal))\n",
    "print(bin(getal))\n",
    "print(oct(getal))\n",
    "print(f\"het getal {getal} heeft volgende waarden in de andere talstelsels:\\n\\\n",
    "hexadecimaal {hex(getal)}, binair {bin(getal)}, octaal {oct(getal)}\")"
   ]
  },
  {
   "cell_type": "markdown",
   "metadata": {},
   "source": [
    "**Omzetten tss talsystemen**\n",
    "* hex()\n",
    "* bin()\n",
    "* oct()\n",
    "* int()\n",
    "\n",
    "**Ingave talstelsel**\n",
    "* 0xFF\n",
    "* 0b01011\n",
    "* 0o17\n",
    "* gewoon een getal!"
   ]
  },
  {
   "cell_type": "code",
   "execution_count": null,
   "metadata": {},
   "outputs": [],
   "source": [
    "print(10)\n",
    "print(0xF)\n",
    "print(hex(0xF))\n",
    "print(oct(8))"
   ]
  },
  {
   "cell_type": "code",
   "execution_count": null,
   "metadata": {},
   "outputs": [],
   "source": [
    "print(0x1F)\n",
    "print(hex(31))"
   ]
  },
  {
   "cell_type": "markdown",
   "metadata": {},
   "source": [
    "Hoe kan ik het voorvoegsel kwijtspelen?  \n",
    "Met .lstrip(\"\")"
   ]
  },
  {
   "cell_type": "code",
   "execution_count": null,
   "metadata": {},
   "outputs": [],
   "source": [
    "letter = \"a\"\n",
    "print(hex(ord(letter)))\n",
    "print(hex(ord(letter)).lstrip(\"0x\"))\n",
    "print(f\"De letter {letter} heeft hexwaarde {hex(ord(letter)).lstrip('0x')}\")"
   ]
  },
  {
   "cell_type": "markdown",
   "metadata": {},
   "source": [
    "Links aanvullen met leidenden nullen met .zfill(), vult aan op stringniveau!!!!  \n",
    "Dus var eerst omzetten naar string.  \n",
    "Getallen bin(), oct() en hex() zijn van het type string.  \n",
    "Dus moet niet omgezet worden naar str voor gebruik van .zfill()."
   ]
  },
  {
   "cell_type": "code",
   "execution_count": null,
   "metadata": {},
   "outputs": [],
   "source": [
    "getal = 0b101      # 0b geeft aan dat nakomende waarde binair is\n",
    "print(getal)\n",
    "print(bin(getal).lstrip(\"0b\").zfill(8))"
   ]
  },
  {
   "cell_type": "markdown",
   "metadata": {},
   "source": [
    "Hierna onderzoeken we even de splitfunctie."
   ]
  },
  {
   "cell_type": "code",
   "execution_count": null,
   "metadata": {},
   "outputs": [],
   "source": [
    "tekst = \"Arteveldehogeschool\"\n",
    "print(tekst.replace(\"e\",\"Z\"))\n",
    "print(tekst)    # string.replace(zoek, vervang) werkt niet in place want var tekst is onveranderd\n",
    "\n",
    "tekst = \"een korte zin\"\n",
    "print(tekst.split(\" \"))\n",
    "for woord in tekst.split(\" \"):\n",
    "    print(woord)\n",
    "\n",
    "woorden = tekst.split(\" \")\n",
    "print(woorden)\n",
    "print()\n",
    "print(\" \".join(woorden))\n",
    "zin = \" \".join(woorden)\n",
    "print(zin)"
   ]
  },
  {
   "cell_type": "markdown",
   "metadata": {},
   "source": [
    "# Week 2\n",
    "* ASCII-table movie\n",
    "* herhaling For loop\n",
    "* list comprehension\n",
    "* sorteren\n"
   ]
  },
  {
   "cell_type": "markdown",
   "metadata": {},
   "source": [
    "### ASCII-tabel en talstelsels\n",
    "Omzetten van string en getal:  \n",
    "* **str()** zet getal om naar string \n",
    "* **int()** zet getal via ingave (**input()**) van string om naar getal  \n",
    "_\n",
    "* **ord()** haal decimale waarde op van teken  \n",
    "* **chr()** geeft teken voor ingegeven ASCII waarde  \n",
    "_\n",
    "* **0xFF 0o7 0b10** ingave hexadecimale, octale en binaire waarde, wordt intern omgezet naar decimaal  \n",
    "* **hex() oct() bin()** zet decimaal om naar talstelsel, let op voorvoegsel **lstrip(\"0x\"), 0o, 0b**  \n",
    "* **int(variabele, 2) ,8,16** zet **variabele** om naar decimaal  \n",
    "* **int(0o377)** zet ingave via talstelsel om naar integer  \n",
    "\n",
    "**Opmerking:** er zijn twee manieren om te aligneren:  \n",
    "* zfill() – aanvullen met nullen links\n",
    "* {variabele:>10} – variabele rechts uitlijen op 10 posities"
   ]
  },
  {
   "cell_type": "code",
   "execution_count": null,
   "metadata": {},
   "outputs": [],
   "source": [
    "##### HIERNA ONDERZOEK NAAR LENGTE ALS ARGUMENT IN UITLIJNING\n",
    "woorden = \"Geef een fenomenaal in zonder punt\".split()\n",
    "print(woorden)\n",
    "# cijfers = [1,5,78,99]\n",
    "# grootste = max(cijfers)\n",
    "# print(grootste)\n",
    "langste = max(woorden, key=len)\n",
    "print(langste)\n",
    "i = len(langste)\n",
    "print(i)\n",
    "# print(type(i))\n",
    "\n",
    "########################################@\n",
    "\n",
    "\n",
    "zin = input(\"Geef een zin in zonder punt\")\n",
    "print(zin)\n",
    "woorden = zin.split()\n",
    "# print(woorden)\n",
    "for woord in woorden:\n",
    "    print(f\"{woord:>40}\")\n"
   ]
  },
  {
   "cell_type": "code",
   "execution_count": null,
   "metadata": {},
   "outputs": [],
   "source": [
    "getal = input(\"Geef een binair getal op:\")\n",
    "print(f\"{getal} omgezet naar decimaal: {int(getal,2)}\")\n",
    "octaal = \"0o2\"\n",
    "print(int(octaal,8) * 0xF)\n",
    "print(0o2 * 0xF)\n",
    "print(bin(8))"
   ]
  },
  {
   "cell_type": "code",
   "execution_count": null,
   "metadata": {},
   "outputs": [],
   "source": [
    "decimaal = \"10\"\n",
    "print(decimaal)\n",
    "print(int(decimaal)) # wat is het verschil????\n",
    "getal = \"ff\"\n",
    "print(int(getal,16)) # 2,8,10,16 stringopbouw moet confrom zijn, ff,2 gaat niet 101,2 wel."
   ]
  },
  {
   "cell_type": "markdown",
   "metadata": {},
   "source": [
    "### Druk de reeks getallen van 1 tot 16 af als 8-bit getal"
   ]
  },
  {
   "cell_type": "code",
   "execution_count": null,
   "metadata": {},
   "outputs": [],
   "source": [
    "for i in range(1,11):\n",
    "    print(bin(i).lstrip(\"0b\").zfill(8))"
   ]
  },
  {
   "cell_type": "markdown",
   "metadata": {},
   "source": [
    "### Druk de letters van je voornaam onder elkaar af gevolgd door de binaire waarde van de letter\n",
    "String is doorloopbaar met for loop."
   ]
  },
  {
   "cell_type": "code",
   "execution_count": null,
   "metadata": {},
   "outputs": [],
   "source": [
    "naam = input(\"Geef je naam in: \")\n",
    "for letter in naam:\n",
    "    print(f\"{letter} – {bin(ord(letter)).lstrip('0b').zfill(8)}\")"
   ]
  },
  {
   "cell_type": "code",
   "execution_count": null,
   "metadata": {},
   "outputs": [],
   "source": [
    "# print(ord(\"a\"))\n",
    "for i in range(32,128):\n",
    "    print(f\"{bin(i).lstrip('0b').zfill(8)} {oct(i).lstrip('0o')} {i} {chr(i)}\")"
   ]
  },
  {
   "cell_type": "markdown",
   "metadata": {},
   "source": [
    "### Druk Asciitabel af vanaf de spatie\n",
    "4 kolommen van 16 rijen\n",
    "Gebruik uitlijning uitgelegd in **03_Strings en werken op tekstuele data > Tekstalignement**"
   ]
  },
  {
   "cell_type": "code",
   "execution_count": null,
   "metadata": {},
   "outputs": [],
   "source": [
    "print(f\"Binair Hex Dec Chr| Binair Hex Dec Chr| Binair Hex Dec Chr| Binair Hex Dec Chr| Binair Hex Dec Chr| Binair Hex Dec Ch\")\n",
    "print(f\"——————————————————|——————————–————————|————————————————–——|————————————————–——|——————————–————————|——————–———————————\")\n",
    "for i in range(32,48):\n",
    "    print(f\"{bin(i).lstrip('0b').zfill(7)} {hex(i).lstrip('0x').zfill(2)} {i:>3} {chr(i):>2} | \\\n",
    "{bin(i+16).lstrip('0b').zfill(7)} {hex(i+16).lstrip('0x').zfill(2)} {i+16:>3} {chr(i+16):>2} | \\\n",
    "{bin(i+32).lstrip('0b').zfill(7)} {hex(i+32).lstrip('0x').zfill(2)} {i+32:>3} {chr(i+32):>2} | \\\n",
    "{bin(i+48).lstrip('0b').zfill(7)} {hex(i+48).lstrip('0x').zfill(2)} {i+48:>3} {chr(i+48):>2} | \\\n",
    "{bin(i+64).lstrip('0b').zfill(7)} {hex(i+64).lstrip('0x').zfill(2)} {i+64:>3} {chr(i+64):>2} | \\\n",
    "{bin(i+80).lstrip('0b').zfill(7)} {hex(i+80).lstrip('0x').zfill(2)} {i+80:>3} {chr(i+80):>2}\")\n"
   ]
  },
  {
   "cell_type": "markdown",
   "metadata": {},
   "source": [
    "## For loop\n",
    "Doorlopen van reeks data items (indexed):\n",
    "* **\"string\"**\n",
    "* **[list, list, …]**\n",
    "* (tuple, tuple, …)\n",
    "* {set, set, …}\n",
    "* {dict:data, dict:data, …}  \n",
    "\n",
    "```python\n",
    "for var in reeks:  \n",
    "    statements op var  \n",
    "    statements …```\n",
    "\n",
    "Start met reeks[n] te nemen uit reeks en door te geven aan var. Als geen index bij reeks voorzien is dan is n=0. Daarna **ingesprongen** statements afwerken en terug naar **for** om volgende reeks[n+1] op te nemen en te verwerken. Dit gaat door tot laatste item reeks[len(reeks)-1] verwerkt is.  \n",
    "Dan statements verwerken na de for loop.  \n",
    "Er kan gewerkt worden op een deel van de reeks via indexing."
   ]
  },
  {
   "cell_type": "code",
   "execution_count": null,
   "metadata": {},
   "outputs": [],
   "source": [
    "string = \"string\"\n",
    "for teken in string:\n",
    "    print(f\"Het teken is: {teken}\")"
   ]
  },
  {
   "cell_type": "code",
   "execution_count": null,
   "metadata": {},
   "outputs": [],
   "source": [
    "lijst = [\"string\", 10, \"tekst\"]\n",
    "for item in lijst:\n",
    "    print(f\"Het item is: {item}\")"
   ]
  },
  {
   "cell_type": "markdown",
   "metadata": {},
   "source": [
    "## Sorteren\n",
    "Er zijn twee mogelijkheden:\n",
    "* **sorted(varlist)** – niet in place\n",
    "* **varlist.sort()** – in place\n",
    "\n",
    "Argumenten (kunnen gecombineerd worden):\n",
    "* reverse = True/False\n",
    "* Key\"\"\n",
    "\n",
    "In een list kan via de lambda functie eenvoudig bepaald worden op welk deel gesorteerd moet worden:\n",
    "* key=lambda list: list[1]\n",
    "\n",
    "**Opmerking:** zie ook https://docs.python.org/3/howto/sorting.html"
   ]
  },
  {
   "cell_type": "code",
   "execution_count": null,
   "metadata": {},
   "outputs": [],
   "source": [
    "tekst = [\"muiae\", \"ben\"]\n",
    "print(tekst)\n",
    "print(sorted(tekst))\n",
    "tekst.sort()\n",
    "print(tekst)\n",
    "\n",
    "tekst = \"muiaze\"\n",
    "print(sorted(tekst))\n",
    "print(tekst)"
   ]
  },
  {
   "cell_type": "code",
   "execution_count": null,
   "metadata": {},
   "outputs": [],
   "source": [
    "# probeer de methoden om te sorteren op de gemeentenlijst"
   ]
  },
  {
   "cell_type": "markdown",
   "metadata": {},
   "source": [
    "### Range()\n",
    "De functie range() levert een eindige reeks op en wordt vaak gebruikt om via een **for** loop een ingesteld aantal herhalingen door te voeren. Hierbij wordt **i** gebruikt als tijdelijke var."
   ]
  },
  {
   "cell_type": "code",
   "execution_count": null,
   "metadata": {
    "scrolled": false
   },
   "outputs": [],
   "source": [
    "for i in range(2,5):\n",
    "    print(f\"i = {i}\")\n",
    "    #     print(i)"
   ]
  },
  {
   "cell_type": "markdown",
   "metadata": {},
   "source": [
    "Range gebruiken om snel een reeks getallen in lijst te plaatsen \n"
   ]
  },
  {
   "cell_type": "markdown",
   "metadata": {},
   "source": [
    "### List comprehension  \n",
    "**Een for op één lijn!**  \n",
    "Nieuwe lijst maken of bestaande wijzigen!  \n",
    "En list comprehension wordt gebruikt om een nieuwe list te maken of om een iterator op te leveren.\n",
    "\n",
    "```python\n",
    "[var for var in lijst]\n",
    "\n",
    "[bewerking op var for var in lijst]\n",
    "\n",
    "[var for var in lijst if voorwaarde]```"
   ]
  },
  {
   "cell_type": "code",
   "execution_count": null,
   "metadata": {},
   "outputs": [],
   "source": [
    "namen = [\"jan\", \"sarah\", \"an\", \"peter\"]\n",
    "\n",
    "namen1 = [var for var in namen] # heeft geen zin er wordt niets gewijzigd\n",
    "print(namen)\n",
    "print(namen1)\n",
    "print(\"––––––––––––––––––––\")\n",
    "Namen = [var.title() for var in namen]\n",
    "print(namen)\n",
    "print(Namen)\n",
    "print(\"––––––––––––––––––––\")\n",
    "kort = [var for var in namen if len(var) <= 3]\n",
    "print(namen)\n",
    "print(kort)"
   ]
  },
  {
   "cell_type": "markdown",
   "metadata": {},
   "source": [
    "Als je geen wijziging op de aangeleverde data doet of geen voorwaarde stelt heeft list comprehension geen zin."
   ]
  },
  {
   "cell_type": "code",
   "execution_count": null,
   "metadata": {},
   "outputs": [],
   "source": [
    "namen = [\"jan\", \"sarah\", \"an\", \"peter\"]\n",
    "print(\"Met de klassieke for loop\")\n",
    "for naam in namen:\n",
    "    print(naam.title(), end=\" \")\n",
    "print(\"\\n\")\n",
    "print(\"Met list comprehension\")\n",
    "for naam in [naam.title() for naam in namen]:\n",
    "    print(naam, end=\" \")"
   ]
  },
  {
   "cell_type": "markdown",
   "metadata": {},
   "source": [
    "Hierna drie mogelijkheden om een getalreeks te maken:\n",
    "* met for de range doorlopen en append.reeks(i)\n",
    "* for samengevoegd via list comprehension\n",
    "* met unpack operator *"
   ]
  },
  {
   "cell_type": "code",
   "execution_count": null,
   "metadata": {},
   "outputs": [],
   "source": [
    "reeks = []\n",
    "for i in range(1,5):\n",
    "    reeks.append(i)\n",
    "print(reeks)\n",
    "\n",
    "reeks = [i for i in range(1,5)]\n",
    "print(reeks)\n",
    "\n",
    "reeks1 = [*range(1,5)]\n",
    "print(reeks1)"
   ]
  },
  {
   "cell_type": "markdown",
   "metadata": {},
   "source": [
    "**List comprehension met range()**  \n",
    "Zie ook in voorgaande voorbeeld."
   ]
  },
  {
   "cell_type": "code",
   "execution_count": null,
   "metadata": {},
   "outputs": [],
   "source": [
    "# hierna stoppen we het in een variabele\n",
    "# doch het kan direct toegepast worden (zie voorbeeld met list)\n",
    "kwadraten = [i*i for i in range(2,10)]\n",
    "# kwadraten = [i*i for i in range(2,5) if i%2 == 0 and i <= 4]\n",
    "\n",
    "for i in kwadraten:\n",
    "    print(i)"
   ]
  },
  {
   "cell_type": "markdown",
   "metadata": {},
   "source": [
    "**Met bestaande list**"
   ]
  },
  {
   "cell_type": "code",
   "execution_count": null,
   "metadata": {},
   "outputs": [],
   "source": [
    "namen = [\"jan\", \"claudine\", \"jozef\", \"sarah\", \"an\", \"peter\", \"hans\"]\n",
    "\n",
    "# alleen items ophalen die voldoen aan criterium\n",
    "for naam in [naam for naam in namen if len(naam) < 4]:\n",
    "    print(naam.title())\n",
    "print()\n",
    "for naam in [naam.upper() for naam in namen if naam.endswith(\"s\")]:\n",
    "    print(naam)\n",
    "print()\n",
    "\n",
    "# items(s) wijzigen, toevoegen of verwijderen in de lijst\n",
    "for naam in [naam for naam in namen if naam.count(\"a\") == 2]:\n",
    "    print(namen.index(naam))\n",
    "    namen[namen.index(naam)] = naam.upper()\n",
    "print(namen)"
   ]
  },
  {
   "cell_type": "code",
   "execution_count": null,
   "metadata": {},
   "outputs": [],
   "source": [
    "namen = [\"jan\", \"claudine\", \"jozef\", \"sarah\", \"an\", \"peter\", \"hans\"]\n",
    "\n",
    "print(\"sarah\".count(\"a\"))"
   ]
  },
  {
   "cell_type": "markdown",
   "metadata": {},
   "source": [
    "## if else\n",
    "### Doet éénmalig onderzoek!\n",
    "Basis is onderzoek met als resultaat waar of onwaar (let op kapitaal):\n",
    "* True\n",
    "* False\n",
    "\n",
    "Voorwaardelijk onderzoek via conditionele operatoren: \n",
    "* ==\n",
    "* !=\n",
    "* `>`\n",
    "* `>=`\n",
    "* <\n",
    "* <=\n",
    "* in – test als string in string/list zit\n",
    "* not in\n",
    "\n",
    "Combineren van condities:\n",
    "* and\n",
    "* or\n",
    "\n",
    "Na conditionele statements niet of wel doorvoeren:\n",
    "* break – als voldaan wordt aan conditie de controlestructuur verlaten\n",
    "* continue – ga terug naar de kop van de conditie en voer opnieuw controle uit\n",
    "\n",
    "### Basismodellen\n",
    "Eenvoudige if met alleen werking bij True:\n",
    "```python\n",
    "if voorwaarde:\n",
    "    statements bij True\n",
    "statements na onderzoek```\n",
    "Volledige if met werking bij True en False:\n",
    "```python\n",
    "if voorwaarde:\n",
    "    statements bij True\n",
    "else:\n",
    "    statements bij False\n",
    "statements na onderzoek```\n",
    "\n",
    "Meervoudige if (case uit andere programmeerstructuren):\n",
    "```python\n",
    "if voorwaarde:\n",
    "    statements bij True\n",
    "elif voorwaarde:\n",
    "    statements bij True\n",
    "…\n",
    "else:\n",
    "    statements bij False\n",
    "statements na onderzoek```\n",
    "\n",
    "Geneste if, is korter te schrijven via elif:\n",
    "```python\n",
    "if voorwaarde:\n",
    "    statements bij True\n",
    "else:\n",
    "    if voorwaarde:\n",
    "        statements bij True\n",
    "    else:\n",
    "        if voorwaarde:\n",
    "            statements bij True\n",
    "        else:\n",
    "            …\n",
    "statements na onderzoek```  "
   ]
  },
  {
   "cell_type": "code",
   "execution_count": null,
   "metadata": {},
   "outputs": [],
   "source": [
    "if 4 > 3:\n",
    "    print(\"groter\")\n",
    "print(\"einde\")"
   ]
  },
  {
   "cell_type": "code",
   "execution_count": null,
   "metadata": {},
   "outputs": [],
   "source": [
    "if 4 < 3:\n",
    "    print(\"groter\")\n",
    "else:\n",
    "    print(\"kleiner\")    \n",
    "print(\"einde\")"
   ]
  },
  {
   "cell_type": "code",
   "execution_count": null,
   "metadata": {},
   "outputs": [],
   "source": [
    "if 4 > 1:\n",
    "    print(\"groter\")\n",
    "    if 4 > 2:\n",
    "        print(\"ja 4 is groter\")\n",
    "elif 4 > 3:\n",
    "    print(\"ja 4 is groter\")\n",
    "elif 4 > 4:\n",
    "    print(\"Hier hebben we een probleem\")\n",
    "print(\"einde\")"
   ]
  },
  {
   "cell_type": "code",
   "execution_count": null,
   "metadata": {},
   "outputs": [],
   "source": [
    "woorden = \"jan is groot\".split()\n",
    "if \"jan\" in woorden:    # hoe testen op tekens in list item vb. letter a?\n",
    "    print(\"jan\")"
   ]
  },
  {
   "cell_type": "code",
   "execution_count": null,
   "metadata": {},
   "outputs": [],
   "source": [
    "# reeks getallen 1 tot 50 afdrukken\n",
    "# uit de reeks getallen van 20 tot 30 niet afdrukken\n",
    "# afdrukken stoppen bij 40\n",
    "for i in range(1,9):\n",
    "    print(i, end=\", \")\n",
    "print(9)    \n",
    "\n",
    "\n",
    "\n",
    "# for i in range(1,51):\n",
    "#     if i < 20 or i > 30:\n",
    "#         print(i, end=\" \")\n",
    "# print(\"einde\")\n",
    "# for i in range(1,51):\n",
    "#     if i < 20:\n",
    "#         print(i, end=\" \")\n",
    "#     elif i > 30:\n",
    "#         print(i, end=\" \")\n",
    "# print(\"einde\")"
   ]
  },
  {
   "cell_type": "markdown",
   "metadata": {},
   "source": [
    "**Willekeurige items uit lijst ophalen**  \n",
    "Hierbij komt module **random** met de functie **randint()**"
   ]
  },
  {
   "cell_type": "code",
   "execution_count": null,
   "metadata": {},
   "outputs": [],
   "source": [
    "from random import randint\n",
    "\n",
    "regenboog = [\"violet\", \"indigo\", \"blauw\", \"groen\", \"geel\", \"oranje\", \"rood\"]\n",
    "namen = [\"jan\", \"claudine\", \"sarah\", \"an\", \"hans\"]\n",
    "\n",
    "for i in range(0,5):\n",
    "    print(regenboog[randint(0,len(regenboog))])"
   ]
  },
  {
   "cell_type": "markdown",
   "metadata": {},
   "source": [
    "Twee lijsten maken en uit elk het grootste item halen. Vervolgens de twee grootste items samenvoegen in een nieuwe lijst.  \n",
    "We kunnen het grootste element ophalen via:\n",
    "* telling te houden van het aantal tekens via len()\n",
    "* te werken met sorteren en key=len te gebruiken\n",
    "**Opmerking:** er zijn twee manieren van sorteren:\n",
    "* in place >> list.sort(args)\n",
    "* not in place >> sorted(list, args)"
   ]
  },
  {
   "cell_type": "code",
   "execution_count": null,
   "metadata": {},
   "outputs": [],
   "source": [
    "namen1 = [\"jan\", \"claudine\", \"sarah\", \"an\", \"hans\"]\n",
    "namen2 = [\"pol\", \"jan-pieter\", \"jozef\"]\n",
    "\n",
    "print(sorted(namen1, key=len)[-1])\n",
    "print(sorted(namen2, key=len)[-1])\n",
    "\n",
    "grootste = [\"claudine\", \"jan-pieter\"]\n",
    "\n",
    "grootste = [sorted(namen1, key=len)[-1], sorted(namen2, key=len)[-1]]\n",
    "print(grootste)"
   ]
  },
  {
   "cell_type": "markdown",
   "metadata": {},
   "source": [
    "Hieronder hebben we ons toegespits op de index.  \n",
    "De items uit een lijst moeten na elkaar uitgevoerd worden gescheiden door een teken. In dit geval een komma/spatie.  \n",
    "Probleem is met for loop alles doorlopen wordt tot en met het laatste item en dus ook het laatste item de naliggende komma/spatie krijgt.  \n",
    "Oplossing:\n",
    "* for loop gebruiken om alle items behalve het laatste te doorlopen\n",
    "* buiten de for loop het laatste afdrukken"
   ]
  },
  {
   "cell_type": "code",
   "execution_count": null,
   "metadata": {},
   "outputs": [],
   "source": [
    "namen = [\"jan\", \"claudine\", \"jozef\", \"sarah\", \"an\", \"hans\"]\n",
    "\n",
    "# print(namen)\n",
    "# print(namen[1])\n",
    "# print(namen[-1])\n",
    "# print(namen[:])\n",
    "# print(\"––––––––––––––––––\")\n",
    "# string = \"paternosterbollekensmakerij\"\n",
    "\n",
    "# print(string)\n",
    "# print(string[1])\n",
    "# print(string[-1])\n",
    "# print(string[11:-2])\n",
    "\n",
    "for naam in namen[0:-1]:\n",
    "    print(naam, end=\", \")\n",
    "print(namen[-1])    \n",
    "\n",
    "# if \"an\" in namen:\n",
    "#     print(\"an is aanwezig\")\n",
    "#     print(namen.index(\"an\"))\n",
    "#     namen.remove(\"an\")\n",
    "# print(namen)"
   ]
  },
  {
   "cell_type": "markdown",
   "metadata": {},
   "source": [
    "#### Gebruik van de set als filter voor dubbels"
   ]
  },
  {
   "cell_type": "code",
   "execution_count": null,
   "metadata": {},
   "outputs": [],
   "source": [
    "namen = [\"jan\", \"claudine\", \"jozef\", \"sarah\", \"an\", \"claudine\", \"peter\", \"hans\", \"jozef\"]\n",
    "\n",
    "print(set(namen))\n",
    "print(namen)\n",
    "\n",
    "newNamen = set(namen)\n",
    "print(newNamen)"
   ]
  },
  {
   "cell_type": "markdown",
   "metadata": {},
   "source": [
    "# Week 3\n",
    "* list comprehension\n",
    "* sorteren"
   ]
  },
  {
   "cell_type": "markdown",
   "metadata": {},
   "source": [
    "## Functie opbouwen\n",
    "### Hergebruik van code\n",
    "Basisopbouw:\n",
    "```python\n",
    "def func_name():\n",
    "    statements binnen de functie\n",
    "    return```\n",
    "\n",
    "Hierna een functie met ingave:\n",
    "```python\n",
    "def func_name(var1, var2):\n",
    "    statements binnen de functie die \"var\" verwerken\n",
    "    resultaat = var1 + var2\n",
    "    return resultaat```\n",
    "\n",
    "Hierna een toepassing voor het aanmaken van een ip-nr."
   ]
  },
  {
   "cell_type": "code",
   "execution_count": null,
   "metadata": {},
   "outputs": [],
   "source": [
    "def naam(var):\n",
    "    tekst = var.title()\n",
    "    return tekst\n",
    "\n",
    "print(naam(\"joris\"))"
   ]
  },
  {
   "cell_type": "code",
   "execution_count": null,
   "metadata": {},
   "outputs": [],
   "source": [
    "from random import randint\n",
    "\n",
    "def ip():\n",
    "    ip_nr = []\n",
    "    for i in range(4):\n",
    "        ip_nr.append(str(randint(0,255)))\n",
    "    return \".\".join(ip_nr)\n",
    "\n",
    "for i in range(5):\n",
    "    print(ip())\n"
   ]
  },
  {
   "cell_type": "markdown",
   "metadata": {},
   "source": [
    "### Sorteren\n",
    "In place zodat de lijst aangepast wordt of niet in place om te \"verbruiken\" bv. in print:\n",
    "IP – list.sort()\n",
    "NIP – sorted(list)\n"
   ]
  },
  {
   "cell_type": "code",
   "execution_count": null,
   "metadata": {},
   "outputs": [],
   "source": [
    "namen = [\"jan\", \"claudine\", \"jozef\", \"aarah\", \"an\", \"claudine\", \"peter\", \"hans\", \"jozef\"]\n",
    "print(sorted(sorted(set(namen)), key=len, reverse=True)[0])"
   ]
  },
  {
   "cell_type": "markdown",
   "metadata": {},
   "source": [
    "**Sorteren op deel van list item via functie**"
   ]
  },
  {
   "cell_type": "code",
   "execution_count": null,
   "metadata": {},
   "outputs": [],
   "source": [
    "namen = ['tine, 22', 'an, 14', 'piet-jan, 81', 'jan, 10', 'joris, 09', 'pol, 35'] # enkelvoudige list\n",
    "\n",
    "def sorteer(item):\n",
    "    key = item[0]   # zinloos want werkt op op eerste letter van item vb. t van 'tine, 22'\n",
    "    return (key)\n",
    "\n",
    "print(sorted(namen))\n",
    "print(sorted(namen, key=sorteer))  # not in place\n",
    "\n",
    "def sorteer(item):\n",
    "    key = item.split(\", \")[0]   # zinloos want werkt op op eerste item uit minilist ['tine', '22']\n",
    "    return (key)\n"
   ]
  },
  {
   "cell_type": "code",
   "execution_count": null,
   "metadata": {},
   "outputs": [],
   "source": [
    "# import re\n",
    "namen = ['tine, 22', 'an, 14', 'piet-jan, 81', 'jan, 10', 'joris, 09', 'pol, 35'] # enkelvoudige list\n",
    "# namen = [['tine', 22], ['an', 14], ['piet', 81], ['jan', 10], ['joris', 9], ['pol4', 35]]  # samengestelde list\n",
    "\n",
    "def sorteer(item):\n",
    "    key = item[-2:]\n",
    "#     key = item.split(\", \")[1]\n",
    "#     key = re.findall(\"\\d+$\", item)\n",
    "#     key = item[0] ## is zinloos want er wordt gewerkt op de stringinfo van het item\n",
    "    return (key)\n",
    "\n",
    "print(namen)\n",
    "print(sorted(namen, key=sorteer))  # not in place\n",
    "\n"
   ]
  },
  {
   "cell_type": "markdown",
   "metadata": {},
   "source": [
    "### Enumerate voor lijst\n",
    "Enumerate functie om een lijst uit te voeren met nummer.  \n",
    "Hierna een standaard uitwerking met een teller."
   ]
  },
  {
   "cell_type": "code",
   "execution_count": null,
   "metadata": {},
   "outputs": [],
   "source": [
    "zin = \"Dit is een vrij lange zin\"\n",
    "woorden = zin.split()\n",
    "print(woorden)\n",
    "i = 1\n",
    "for woord in woorden:\n",
    "    print(f\"{i}. {woord}\")\n",
    "    i += 1"
   ]
  },
  {
   "cell_type": "markdown",
   "metadata": {},
   "source": [
    "Hierna de uitwerking met enumerate.  \n",
    "Eerst een model waarbij we uitleggen dat via een geneste lijst elke element uit het genest element kan opgehaald worden door na de for de items uit het geneste element in een variabele te stoppen."
   ]
  },
  {
   "cell_type": "code",
   "execution_count": null,
   "metadata": {},
   "outputs": [],
   "source": [
    "lijst = [[\"jan\", \"degroot\"], [\"piet\", \"vervoort\"], [\"sofie\", \"laga\"]]\n",
    "for voorn, achtern in lijst:\n",
    "    print(voorn)"
   ]
  },
  {
   "cell_type": "markdown",
   "metadata": {},
   "source": [
    "Met de enumerate haal je het indexnummer op via een automatische nesting van het item en zijn index in een iterabele."
   ]
  },
  {
   "cell_type": "code",
   "execution_count": null,
   "metadata": {},
   "outputs": [],
   "source": [
    "zin = \"Dit is een vrij lange\"\n",
    "woorden = zin.split()\n",
    "print(woorden)\n",
    "print(enumerate(woorden))       # het enumerate object\n",
    "print(type(enumerate(woorden))) # het type\n",
    "lijst = list(enumerate(woorden))\n",
    "print(lijst)\n",
    "\n",
    "for nr,item in lijst:\n",
    "    print(f\"{nr+1}. {item}\")"
   ]
  },
  {
   "cell_type": "markdown",
   "metadata": {},
   "source": [
    "# Week 4"
   ]
  },
  {
   "cell_type": "markdown",
   "metadata": {},
   "source": [
    "### Filemanagement  \n",
    "* Padstructuur onderzoeken.  \n",
    "* Waar ben ik aan het werken?  \n",
    "* Paden opvragen.\n",
    "* Veranderen van directory\n",
    "* Mappen maken en verwijderen.\n",
    "* Files automatisch aanmaken om mee te werken via cmd.\n",
    "* Files verwijder"
   ]
  },
  {
   "cell_type": "code",
   "execution_count": null,
   "metadata": {},
   "outputs": [],
   "source": [
    "import os\n",
    "bronpad = (os.getcwd())\n",
    "print(os.getcwd())\n",
    "werkmap = \"/Users/lucberth/Desktop/OEFENINGEN\"\n",
    "os.chdir(werkmap)\n",
    "\n",
    "bronpad = (os.getcwd())\n",
    "print(os.getcwd())\n",
    "os.mkdir(\"map/dieper\")\n",
    "os.chdir(\"map/dieper\")\n",
    "os.listdir()"
   ]
  },
  {
   "cell_type": "markdown",
   "metadata": {},
   "source": [
    "Hierna doen we een controle als een map reeds bestaat of niet.  \n",
    "Wanneer een map bestaat en je maakt deze opnieuw aan krijg je een fout."
   ]
  },
  {
   "cell_type": "code",
   "execution_count": null,
   "metadata": {},
   "outputs": [],
   "source": [
    "import os\n",
    "bronpad = (os.getcwd())\n",
    "print(os.getcwd())\n",
    "werkmap = \"/Users/lucberth/Desktop/OEFENINGEN\"\n",
    "os.chdir(werkmap)\n",
    "print(os.getcwd())\n",
    "# map maken\n",
    "bron = \"_IN\"\n",
    "doel = \"_OUT\"\n",
    "if os.path.exists(bron):\n",
    "    print(\"De brondirectory bestaat reeds.\")\n",
    "else:\n",
    "    os.mkdir(bron)\n",
    "    print(f\"De brondirectory is aangemaakt met volgende pad:\\n{os.path.join(werkmap,bron)}\")\n",
    "\n",
    "if os.path.exists(doel):\n",
    "    print(\"De doeldirectory bestaat reeds.\")\n",
    "else:\n",
    "    os.mkdir(doel)\n",
    "    print(f\"De doeldirectory is aangemaakt met volgende pad:\\n{os.path.join(werkmap,doel)}\")\n"
   ]
  },
  {
   "cell_type": "markdown",
   "metadata": {},
   "source": [
    "Snel reeks files aanmaken met touch **file{1..5}.{txt,pdf}**.  \n",
    "Dit kan ook via magic of zelfs doorgegeven vanuit een var in python:\n",
    "* files = ffile{1..5}.{txt,pdf}\n",
    "* ! touch file{1..5}.{txt,pdf}\n",
    "* ! touch $files  "
   ]
  },
  {
   "cell_type": "code",
   "execution_count": null,
   "metadata": {},
   "outputs": [],
   "source": [
    "! touch file{1..5}.{txt,pdf}"
   ]
  },
  {
   "cell_type": "markdown",
   "metadata": {},
   "source": [
    "Files oplijsten en filteren op basis van extentie."
   ]
  },
  {
   "cell_type": "code",
   "execution_count": null,
   "metadata": {},
   "outputs": [],
   "source": [
    "for file in os.listdir():\n",
    "    if file[-3:] == \"pdf\":\n",
    "        print(file)\n",
    "print(\"—————————————————\")\n",
    "for file in os.listdir():\n",
    "    if file.split(\".\")[1] == \"txt\":\n",
    "        print(file)\n",
    "print(\"—————————————————\")\n",
    "for file in os.listdir():\n",
    "    if os.path.splitext(file)[1] == \".txt\":\n",
    "        print(file)\n"
   ]
  },
  {
   "cell_type": "markdown",
   "metadata": {},
   "source": [
    "Hoe strip ik voor- of achteraan een filenaam een deel af."
   ]
  },
  {
   "cell_type": "code",
   "execution_count": null,
   "metadata": {},
   "outputs": [],
   "source": [
    "filenaam = \"filenaam1.ext\"\n",
    "delen = filenaam.split(\".\")\n",
    "print(delen)\n",
    "print(delen[0][:-1])"
   ]
  },
  {
   "cell_type": "markdown",
   "metadata": {},
   "source": [
    "Filenamen wijzigen.  \n",
    "Dit gaan we doen door de naam te isoleren en op dit naamdeel te werken. Voorlopig houden we het op weghalen en toevoegen voor- en achteraan. Later zullen we met reguliere expressies complexere tekstwijzigingen kunnen doorvoeren."
   ]
  },
  {
   "cell_type": "code",
   "execution_count": null,
   "metadata": {},
   "outputs": [],
   "source": [
    "i = 1\n",
    "for file in os.listdir():\n",
    "    if os.path.splitext(file)[1] == \".txt\":\n",
    "#         print(str(i) + file)\n",
    "#         i += 1\n",
    "        os.rename(file, str(i) + file.split(\".\")[0][:-1] + \".\" + file.split(\".\")[1])\n",
    "        i += 1"
   ]
  },
  {
   "cell_type": "markdown",
   "metadata": {},
   "source": [
    "Complexere manier waarbij tweemaal een split gebruikt zal worden om elk deel van de filenaam te kunnne benaderen.  \n",
    "file1_nu.txt  \n",
    " file3_nu.txt  \n",
    "file_heden.txt  \n",
    "file_nu.txt  \n",
    "file_vroeger.txt\n"
   ]
  },
  {
   "cell_type": "code",
   "execution_count": null,
   "metadata": {
    "scrolled": true
   },
   "outputs": [],
   "source": [
    "for file in os.listdir():\n",
    "    if os.path.splitext(file)[1] == \".txt\":\n",
    "        print(file)\n",
    "        os.rename(file, file.split(\".\")[0].split(\"_\")[1] + file.split(\".\")[0].split(\"_\")[0] + \".\" + file.split(\".\")[1])"
   ]
  },
  {
   "cell_type": "markdown",
   "metadata": {},
   "source": [
    "Files lezen en schrijven\n",
    "* Read\n",
    "* Readlines\n",
    "* Readline  \n",
    "\n"
   ]
  },
  {
   "cell_type": "markdown",
   "metadata": {},
   "source": [
    "**Let op!** Let goed op wanneer je code laat herlopen in een zelfde cel of een andere cel dat dit van invloed kan zijn op onderliggende cellen. Daarom is het goed in elke cel de os.getcwd() te doen ter controle waar je aan het werken bent;"
   ]
  },
  {
   "cell_type": "code",
   "execution_count": null,
   "metadata": {},
   "outputs": [],
   "source": [
    "# map aanmaken na controle als ze al of niet bestaat\n",
    "import os\n",
    "bureau = \"/Users/lucberth/Desktop/JUPYTER\"\n",
    "bron = \"_IN\"\n",
    "doe = \"_OUT\"\n",
    "\n",
    "if os.path.exists(os.path.join(bureau,bron)):\n",
    "    print(f\"Map \\\"{bron}\\\" bestaat reeds in de directory {os.path.join(bureau)}!\")\n",
    "    os.chdir(os.path.join(bureau))\n",
    "    print(f\"De werkdirectory is ingesteld in deze directory.\")\n",
    "\n",
    "\n",
    "else:\n",
    "    os.mkdir(os.path.join(bureau,bron))\n",
    "    print(f\"Map \\\"{bron}\\\" is aangemaakt in de directory {os.path.join(bureau)}\")\n",
    "    os.chdir(os.path.join(bureau))\n",
    "    print(f\"De werkdirectory is ingesteld in deze directory.\")\n",
    "print()\n",
    "print(os.getcwd())"
   ]
  },
  {
   "cell_type": "code",
   "execution_count": null,
   "metadata": {},
   "outputs": [],
   "source": [
    "import os\n",
    "# files ophalen uit de map\n",
    "bureau = \"/Users/lucberth/Desktop/JUPYTER\"\n",
    "bron = \"_IN\"\n",
    "doel = \"_OUT\"\n",
    "os.chdir(bureau)\n",
    "print(os.listdir())\n",
    "filelist = os.listdir()\n",
    "for file in os.listdir():\n",
    "#     print(file)\n",
    "    if os.path.splitext(file)[1].lstrip(\".\") == \"txt\":\n",
    "        print(f\"Een tekstfile: {file}\")\n",
    "    elif os.path.splitext(file)[1].lstrip(\".\") == \"pdf\":\n",
    "        print(f\"Een pdf-file: {file}\")\n"
   ]
  },
  {
   "cell_type": "markdown",
   "metadata": {},
   "source": [
    "### File schrijven en lezen  \n",
    "**Klassieke manier**\n",
    "```Python\n",
    "fob = open(\"file.txt\")\n",
    "acties op de file\n",
    "fob.close()```\n",
    "\n",
    "Er zijn drie manieren om de inhoud van de file te lezen:\n",
    "* read – leest de volledige inhoud als één string\n",
    "* readlines – leest lijn per lijn en stopt alles in een list\n",
    "* readline – leest een lijn en wacht"
   ]
  },
  {
   "cell_type": "code",
   "execution_count": null,
   "metadata": {},
   "outputs": [],
   "source": [
    "import os\n",
    "bureau = \"/Users/lucberth/Desktop/OEFENINGEN\"\n",
    "bron = \"_IN\"\n",
    "doel = \"_OUT\"\n",
    "\n",
    "os.chdir(bureau)\n",
    "print(os.getcwd())\n",
    "print(os.listdir())\n",
    "\n",
    "fob = open(os.path.join(bureau,\"people.txt\"))\n",
    "print(fob.name)\n",
    "print(fob.writable())\n",
    "print(fob.mode)\n",
    "inhoud = fob.read()\n",
    "fob.close()\n",
    "print(inhoud) # alle lijnen\n"
   ]
  },
  {
   "cell_type": "markdown",
   "metadata": {},
   "source": [
    "**Veilige manier**\n",
    "```Python\n",
    "whith open(\"file.txt\") as fob:\n",
    "    acties op de file```"
   ]
  },
  {
   "cell_type": "code",
   "execution_count": null,
   "metadata": {},
   "outputs": [],
   "source": [
    "import os\n",
    "bureau = \"/Users/lucberth/Desktop/OEFENINGEN\"\n",
    "bron = \"_IN\"\n",
    "doel = \"_OUT\"\n",
    "os.chdir(bureau)\n",
    "\n",
    "with open(os.path.join(bureau,\"people.txt\")) as fob:\n",
    "    print(fob.name)\n",
    "    print(fob.writable())\n",
    "    print(fob.mode)\n",
    "    inhoud = fob.read()\n",
    "print(inhoud)"
   ]
  },
  {
   "cell_type": "code",
   "execution_count": null,
   "metadata": {},
   "outputs": [],
   "source": [
    "import os\n",
    "bureau = \"/Users/lucberth/Desktop/OEFENINGEN\"\n",
    "bron = \"_IN\"\n",
    "doel = \"_OUT\"\n",
    "os.chdir(bureau)\n",
    "\n",
    "with open(os.path.join(bureau,\"people.txt\")) as fob:\n",
    "    inhoud = fob.readlines()\n",
    "print(inhoud)\n",
    "\n",
    "for lijn in inhoud:\n",
    "    print(lijn[:-1], end=\" - \")\n"
   ]
  },
  {
   "cell_type": "markdown",
   "metadata": {},
   "source": [
    "Hierna inhoud in een file schrijven. Let op een file openen voor schrijven = overschrijven van de file."
   ]
  },
  {
   "cell_type": "code",
   "execution_count": null,
   "metadata": {},
   "outputs": [],
   "source": [
    "import os\n",
    "bureau = \"/Users/lucberth/Desktop/OEFENINGEN\"\n",
    "bron = \"_IN\"\n",
    "doel = \"_OUT\"\n",
    "os.chdir(bureau)\n",
    "\n",
    "# with open(os.path.join(bureau,\"deelnemers.txt\"), \"w\") as fobw:\n",
    "#     with open(os.path.join(bureau,\"people.txt\")) as fob:\n",
    "#         inhoud = fob.readlines()\n",
    "#     fobw.write(\"Hieronder vinden we de namen van de deelnemers:\\n\\n\")\n",
    "#     for lijn in inhoud:\n",
    "#         fobw.write(lijn)\n",
    "\n",
    "with open(os.path.join(bureau,\"people.txt\")) as fob:\n",
    "    inhoud = fob.readlines()\n",
    "with open(os.path.join(bureau,\"deelnemers.txt\"), \"w\") as fobw:\n",
    "    fobw.write(\"Hieronder vinden we de namen van de deelnemers:\\n\\n\")\n",
    "    for lijn in inhoud:\n",
    "        fobw.write(lijn.split(\", \")[1][:-1] + \" – \" + lijn.split(\", \")[0] + \"\\n\")\n",
    "\n"
   ]
  },
  {
   "cell_type": "markdown",
   "metadata": {},
   "source": [
    "# WEEK 5"
   ]
  },
  {
   "cell_type": "markdown",
   "metadata": {},
   "source": [
    "Schrijf een programma dat de file people uitleest op scherm."
   ]
  },
  {
   "cell_type": "code",
   "execution_count": 20,
   "metadata": {},
   "outputs": [
    {
     "name": "stdout",
     "output_type": "stream",
     "text": [
      "Cardoza, Fred\n",
      "Catto, Philipa\n",
      "Duncan, Jean\n",
      "Edwards, Neil\n",
      "England, Elizabeth\n",
      "Main, Robert\n",
      "Martin, Jane\n",
      "Meens, Carol\n",
      "Patrick, Harry\n",
      "Paul, Jeanine\n",
      "Roberts, Clementine\n",
      "Schmidt, Paul\n",
      "Sells, Simon\n",
      "Smith, Peter\n",
      "Stephens, Sheila\n",
      "Wales, Gareth\n",
      "Zinni, Hamish\n"
     ]
    }
   ],
   "source": [
    "import os\n",
    "bureau = \"/Users/lucberth/Desktop/OEFENINGEN\"\n",
    "bron = \"_IN\"\n",
    "doel = \"_OUT\"\n",
    "os.chdir(bureau)\n",
    "file = \"people.txt\"\n",
    "\n",
    "with open(file) as fob:\n",
    "#     content = fob.read()\n",
    "# print(content)\n",
    "    \n",
    "    \n",
    "#     while True:\n",
    "#         lijn = fob.readline()\n",
    "#         if lijn == \"\":\n",
    "#             break\n",
    "#         print(lijn, end = \"\")\n",
    "    content = fob.readlines()\n",
    "for lijn in content:\n",
    "    print(lijn, end = \"\")\n",
    "\n"
   ]
  },
  {
   "cell_type": "markdown",
   "metadata": {},
   "source": [
    "Schrijf een programma dat de file people leest en alleen de voornamen afdrukt."
   ]
  },
  {
   "cell_type": "code",
   "execution_count": 29,
   "metadata": {},
   "outputs": [
    {
     "name": "stdout",
     "output_type": "stream",
     "text": [
      "Fred\n",
      "Philipa\n",
      "Jean\n",
      "Neil\n",
      "Elizabeth\n",
      "Robert\n",
      "Jane\n",
      "Carol\n",
      "Harry\n",
      "Jeanine\n",
      "Clementine\n",
      "Paul\n",
      "Simon\n",
      "Peter\n",
      "Sheila\n",
      "Gareth\n",
      "Hamish\n"
     ]
    }
   ],
   "source": [
    "import os\n",
    "bureau = \"/Users/lucberth/Desktop/OEFENINGEN\"\n",
    "bron = \"_IN\"\n",
    "doel = \"_OUT\"\n",
    "os.chdir(bureau)\n",
    "file = \"people.txt\"\n",
    "\n",
    "with open(file) as fob:\n",
    "    content = fob.readlines()\n",
    "for naam in content:\n",
    "    print(naam.split(\", \")[1][:-1])\n",
    "    \n",
    "    \n",
    "    "
   ]
  },
  {
   "cell_type": "markdown",
   "metadata": {},
   "source": [
    "Schrijf een programma dat de file people uitleest op scherm en alleen de voornamen gesorteerd weergeeft"
   ]
  },
  {
   "cell_type": "code",
   "execution_count": 34,
   "metadata": {},
   "outputs": [
    {
     "name": "stdout",
     "output_type": "stream",
     "text": [
      "Carol\n",
      "Clementine\n",
      "Elizabeth\n",
      "Fred\n",
      "Gareth\n",
      "Hamish\n",
      "Harry\n",
      "Jane\n",
      "Jean\n",
      "Jeanine\n",
      "Neil\n",
      "Paul\n",
      "Peter\n",
      "Philipa\n",
      "Robert\n",
      "Sheila\n",
      "Simon\n"
     ]
    }
   ],
   "source": [
    "import os\n",
    "bureau = \"/Users/lucberth/Desktop/OEFENINGEN\"\n",
    "bron = \"_IN\"\n",
    "doel = \"_OUT\"\n",
    "os.chdir(bureau)\n",
    "file = \"people.txt\"\n",
    "# i=1\n",
    "\n",
    "def sorter(item):\n",
    "    vnaam = item.split(\", \")[1]\n",
    "    return (vnaam)\n",
    "\n",
    "with open(file) as fob:\n",
    "    content = fob.readlines()\n",
    "for naam in [naam for naam in sorted(content, key=sorter)]:\n",
    "    print(naam.split(\", \")[1][:-1])\n"
   ]
  },
  {
   "cell_type": "markdown",
   "metadata": {},
   "source": [
    "Herhaal de opdracht van hierboven doch schrijf de namen weg in een nieuwe file \"peopleSortedFN.txt\"."
   ]
  },
  {
   "cell_type": "code",
   "execution_count": 33,
   "metadata": {},
   "outputs": [],
   "source": [
    "import os\n",
    "bureau = \"/Users/lucberth/Desktop/OEFENINGEN\"\n",
    "bron = \"_IN\"\n",
    "doel = \"_OUT\"\n",
    "os.chdir(bureau)\n",
    "file = \"people.txt\"\n",
    "nfile = \"peopleSortedFN.txt\"\n",
    "\n",
    "def sorter(item):\n",
    "    voorn = item.split(\", \")[1]\n",
    "    return (voorn)\n",
    "\n",
    "with open(file) as fob:\n",
    "    content = fob.readlines()\n",
    "    \n",
    "[i for i in lijst]\n",
    "\n",
    "with open(nfile, \"w\") as fobw:\n",
    "    for naam in [naam for naam in sorted(content,key=sorter)]:\n",
    "        fobw.write(naam.split(\", \")[1])\n"
   ]
  },
  {
   "cell_type": "code",
   "execution_count": null,
   "metadata": {},
   "outputs": [],
   "source": [
    "import os\n",
    "bureau = \"/Users/lucberth/Desktop/OEFENINGEN\"\n",
    "bron = \"_IN\"\n",
    "doel = \"_OUT\"\n",
    "os.chdir(bureau)\n",
    "file = \"people.txt\"\n",
    "\n",
    "with open(file) as fob:\n",
    "#     fob.seek(0)\n",
    "    while True:\n",
    "        buffer = fob.readline()\n",
    "        if buffer == \"\":\n",
    "            break\n",
    "        print(buffer, end=\"\")\n",
    "print(\"einde\")"
   ]
  },
  {
   "cell_type": "markdown",
   "metadata": {},
   "source": [
    "### Enummerate met startteller"
   ]
  },
  {
   "cell_type": "code",
   "execution_count": 51,
   "metadata": {},
   "outputs": [
    {
     "name": "stdout",
     "output_type": "stream",
     "text": [
      "100 Cardoza, Fred\n",
      "101 Catto, Philipa\n",
      "102 Duncan, Jean\n",
      "103 Edwards, Neil\n",
      "104 England, Elizabeth\n",
      "105 Main, Robert\n",
      "106 Martin, Jane\n",
      "107 Meens, Carol\n",
      "108 Patrick, Harry\n",
      "109 Paul, Jeanine\n",
      "110 Roberts, Clementine\n",
      "111 Schmidt, Paul\n",
      "112 Sells, Simon\n",
      "113 Smith, Peter\n",
      "114 Stephens, Sheila\n",
      "115 Wales, Gareth\n",
      "116 Zinni, Hamish\n"
     ]
    }
   ],
   "source": [
    "import os\n",
    "bureau = \"/Users/lucberth/Desktop/OEFENINGEN\"\n",
    "bron = \"_IN\"\n",
    "doel = \"_OUT\"\n",
    "os.chdir(bureau)\n",
    "file = \"people.txt\"\n",
    "\n",
    "with open(file) as fob:\n",
    "    content = fob.readlines()\n",
    "\n",
    "for nr, naam in enumerate(content,1):\n",
    "    print(nr, naam, end = \"\")"
   ]
  },
  {
   "cell_type": "code",
   "execution_count": 48,
   "metadata": {},
   "outputs": [
    {
     "name": "stdout",
     "output_type": "stream",
     "text": [
      "item1\n",
      "item2\n",
      "item3\n",
      "(0, 'item1')\n",
      "(1, 'item2')\n",
      "(2, 'item3')\n",
      "0. item1\n",
      "1. item2\n",
      "2. item3\n"
     ]
    }
   ],
   "source": [
    "lijst = [\"item1\", \"item2\", \"item3\"]\n",
    "for item in lijst:\n",
    "    print(item)\n",
    "\n",
    "nlijst = enumerate(lijst)\n",
    "for item in nlijst:\n",
    "    print(item)\n",
    "nlijst = enumerate(lijst)\n",
    "for nr, item in nlijst:\n",
    "    print(f\"{nr}. {item}\")"
   ]
  },
  {
   "cell_type": "markdown",
   "metadata": {},
   "source": []
  }
 ],
 "metadata": {
  "kernelspec": {
   "display_name": "Python 3",
   "language": "python",
   "name": "python3"
  },
  "language_info": {
   "codemirror_mode": {
    "name": "ipython",
    "version": 3
   },
   "file_extension": ".py",
   "mimetype": "text/x-python",
   "name": "python",
   "nbconvert_exporter": "python",
   "pygments_lexer": "ipython3",
   "version": "3.8.3"
  }
 },
 "nbformat": 4,
 "nbformat_minor": 4
}
